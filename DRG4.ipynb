{
 "cells": [
  {
   "cell_type": "code",
   "execution_count": 1,
   "metadata": {},
   "outputs": [],
   "source": [
    "# Imports\n",
    "import pandas as pd\n",
    "import numpy as np\n",
    "import matplotlib.pyplot as plt\n",
    "import seaborn as sns\n",
    "from sklearn.model_selection import train_test_split\n",
    "from sklearn.metrics import r2_score, mean_squared_error\n",
    "from sklearn.preprocessing import MinMaxScaler\n",
    "from sklearn.neighbors import KNeighborsRegressor\n",
    "from sklearn.linear_model import LinearRegression\n",
    "from sklearn.svm import SVR\n",
    "from sklearn.ensemble import RandomForestRegressor\n",
    "from sklearn.tree import DecisionTreeRegressor\n",
    "from scipy.stats import pearsonr\n",
    "from sklearn.ensemble import GradientBoostingRegressor\n",
    "from sklearn.linear_model import SGDRegressor\n",
    "# import statsmodels.api as sm\n",
    "# from statsmodels.formula.api import sm\n",
    "from sklearn.model_selection import GridSearchCV\n",
    "import seaborn as sns"
   ]
  },
  {
   "cell_type": "code",
   "execution_count": 2,
   "metadata": {},
   "outputs": [
    {
     "name": "stdout",
     "output_type": "stream",
     "text": [
      "<class 'pandas.core.frame.DataFrame'>\n",
      "Int64Index: 53104 entries, 0 to 58975\n",
      "Data columns (total 49 columns):\n",
      "LOS                           53104 non-null float64\n",
      "blood                         53104 non-null uint8\n",
      "circulatory                   53104 non-null uint8\n",
      "congenital                    53104 non-null uint8\n",
      "digestive                     53104 non-null uint8\n",
      "endocrine                     53104 non-null uint8\n",
      "genitourinary                 53104 non-null uint8\n",
      "infectious                    53104 non-null uint8\n",
      "injury                        53104 non-null uint8\n",
      "mental                        53104 non-null uint8\n",
      "misc                          53104 non-null uint8\n",
      "muscular                      53104 non-null uint8\n",
      "neoplasms                     53104 non-null uint8\n",
      "nervous                       53104 non-null uint8\n",
      "pregnancy                     53104 non-null uint8\n",
      "prenatal                      53104 non-null uint8\n",
      "respiratory                   53104 non-null uint8\n",
      "skin                          53104 non-null uint8\n",
      "GENDER                        53104 non-null int64\n",
      "ICU                           53104 non-null float64\n",
      "NICU                          53104 non-null float64\n",
      "ADM_ELECTIVE                  53104 non-null uint8\n",
      "ADM_EMERGENCY                 53104 non-null uint8\n",
      "ADM_NEWBORN                   53104 non-null uint8\n",
      "ADM_URGENT                    53104 non-null uint8\n",
      "INS_Government                53104 non-null uint8\n",
      "INS_Medicaid                  53104 non-null uint8\n",
      "INS_Medicare                  53104 non-null uint8\n",
      "INS_Private                   53104 non-null uint8\n",
      "INS_Self Pay                  53104 non-null uint8\n",
      "REL_NOT SPECIFIED             53104 non-null uint8\n",
      "REL_RELIGIOUS                 53104 non-null uint8\n",
      "REL_UNOBTAINABLE              53104 non-null uint8\n",
      "ETH_ASIAN                     53104 non-null uint8\n",
      "ETH_BLACK/AFRICAN AMERICAN    53104 non-null uint8\n",
      "ETH_HISPANIC/LATINO           53104 non-null uint8\n",
      "ETH_OTHER/UNKNOWN             53104 non-null uint8\n",
      "ETH_WHITE                     53104 non-null uint8\n",
      "AGE_middle_adult              53104 non-null uint8\n",
      "AGE_newborn                   53104 non-null uint8\n",
      "AGE_senior                    53104 non-null uint8\n",
      "AGE_young_adult               53104 non-null uint8\n",
      "MAR_DIVORCED                  53104 non-null uint8\n",
      "MAR_LIFE PARTNER              53104 non-null uint8\n",
      "MAR_MARRIED                   53104 non-null uint8\n",
      "MAR_SEPARATED                 53104 non-null uint8\n",
      "MAR_SINGLE                    53104 non-null uint8\n",
      "MAR_UNKNOWN (DEFAULT)         53104 non-null uint8\n",
      "MAR_WIDOWED                   53104 non-null uint8\n",
      "dtypes: float64(3), int64(1), uint8(45)\n",
      "memory usage: 4.3 MB\n"
     ]
    }
   ],
   "source": [
    "df_clean = pd.read_pickle('data/df_clean_pickled.pkl')\n",
    "df_clean.head()\n",
    "df_clean.info()"
   ]
  },
  {
   "cell_type": "code",
   "execution_count": 3,
   "metadata": {},
   "outputs": [
    {
     "data": {
      "text/plain": [
       "0"
      ]
     },
     "execution_count": 3,
     "metadata": {},
     "output_type": "execute_result"
    }
   ],
   "source": [
    "df_clean.isnull().values.sum()"
   ]
  },
  {
   "cell_type": "code",
   "execution_count": 5,
   "metadata": {},
   "outputs": [],
   "source": [
    "# Target Variable (Length-of-Stay)\n",
    "LOS = df_clean['LOS'].values\n",
    "# Prediction Features\n",
    "features = df_clean.drop(columns=['LOS'])"
   ]
  },
  {
   "cell_type": "code",
   "execution_count": 6,
   "metadata": {},
   "outputs": [
    {
     "name": "stdout",
     "output_type": "stream",
     "text": [
      "Training set has 42483 samples.\n",
      "Testing set has 10621 samples.\n"
     ]
    }
   ],
   "source": [
    "# Split into train 80% and test 20%\n",
    "X_train, X_test, y_train, y_test = train_test_split(features, \n",
    "                                                    LOS, \n",
    "                                                    test_size = .20, \n",
    "                                                    random_state = 0)\n",
    "\n",
    "# Show the results of the split\n",
    "print(\"Training set has {} samples.\".format(X_train.shape[0]))\n",
    "print(\"Testing set has {} samples.\".format(X_test.shape[0]))"
   ]
  },
  {
   "cell_type": "code",
   "execution_count": 7,
   "metadata": {},
   "outputs": [
    {
     "name": "stdout",
     "output_type": "stream",
     "text": [
      "SGDRegressor done.\n",
      "GradientBoostingRegressor done.\n",
      "LinearRegression done.\n",
      "KNeighborsRegressor done.\n"
     ]
    },
    {
     "name": "stderr",
     "output_type": "stream",
     "text": [
      "C:\\Users\\sreedharv\\AppData\\Local\\Programs\\Python\\Python37\\lib\\site-packages\\sklearn\\ensemble\\forest.py:245: FutureWarning: The default value of n_estimators will change from 10 in version 0.20 to 100 in 0.22.\n",
      "  \"10 in version 0.20 to 100 in 0.22.\", FutureWarning)\n"
     ]
    },
    {
     "name": "stdout",
     "output_type": "stream",
     "text": [
      "RandomForestRegressor done.\n"
     ]
    }
   ],
   "source": [
    "# Regression models for comparison\n",
    "models = [SGDRegressor(random_state = 0), \n",
    "          GradientBoostingRegressor(random_state = 0), \n",
    "          LinearRegression(),\n",
    "          KNeighborsRegressor(),\n",
    "          RandomForestRegressor(random_state = 0)]\n",
    "\n",
    "results = {}\n",
    "\n",
    "for model in models:\n",
    "    \n",
    "    # Instantiate and fit Regressor Model\n",
    "    reg_model = model\n",
    "    reg_model.fit(X_train, y_train)\n",
    "    \n",
    "    # Make predictions with model\n",
    "    y_test_preds = reg_model.predict(X_test)\n",
    "    \n",
    "    # Grab model name and store results associated with model\n",
    "    name = str(model).split(\"(\")[0]\n",
    "\n",
    "    results[name] = r2_score(y_test, y_test_preds)\n",
    "    print('{} done.'.format(name))\n",
    "    \n",
    "#     print(reg_model.coef_)\n",
    "#     print(reg_model.intercept_)"
   ]
  },
  {
   "cell_type": "code",
   "execution_count": 8,
   "metadata": {},
   "outputs": [
    {
     "data": {
      "image/png": "[encoded data removed]",
      "text/plain": [
       "<Figure size 432x288 with 1 Axes>"
      ]
     },
     "metadata": {
      "needs_background": "light"
     },
     "output_type": "display_data"
    }
   ],
   "source": [
    "# R2 score results\n",
    "fig, ax = plt.subplots()\n",
    "ind = range(len(results))\n",
    "ax.barh(ind, list(results.values()), align='center', \n",
    "        color = '#55a868', alpha=0.8)\n",
    "ax.set_yticks(ind)\n",
    "ax.set_yticklabels(results.keys())\n",
    "ax.set_xlabel('R-squared score')\n",
    "ax.tick_params(left=False, top=False, right=False) \n",
    "ax.set_title('Comparison of Regression Models')\n",
    "fig.savefig('images/compare_models.png', bbox_inches = 'tight')"
   ]
  },
  {
   "cell_type": "code",
   "execution_count": 9,
   "metadata": {},
   "outputs": [
    {
     "name": "stdout",
     "output_type": "stream",
     "text": [
      "R2 score is: 0.362068\n"
     ]
    }
   ],
   "source": [
    "# GradientBoostingRegressor will be used as the LOS prediction model\n",
    "reg_model = GradientBoostingRegressor(random_state=0)   \n",
    "reg_model.fit(X_train, y_train)\n",
    "y_test_preds = reg_model.predict(X_test)\n",
    "r2_not_refined = r2_score(y_test, y_test_preds)\n",
    "print(\"R2 score is: {:2f}\".format(r2_not_refined)) "
   ]
  },
  {
   "cell_type": "code",
   "execution_count": 10,
   "metadata": {},
   "outputs": [
    {
     "name": "stderr",
     "output_type": "stream",
     "text": [
      "C:\\Users\\sreedharv\\AppData\\Local\\Programs\\Python\\Python37\\lib\\site-packages\\sklearn\\model_selection\\_split.py:1978: FutureWarning: The default value of cv will change from 3 to 5 in version 0.22. Specify it explicitly to silence this warning.\n",
      "  warnings.warn(CV_WARNING, FutureWarning)\n"
     ]
    },
    {
     "name": "stdout",
     "output_type": "stream",
     "text": [
      "0.4073586384057087\n",
      "GradientBoostingRegressor(alpha=0.9, criterion='friedman_mse', init=None,\n",
      "                          learning_rate=0.1, loss='ls', max_depth=4,\n",
      "                          max_features=None, max_leaf_nodes=None,\n",
      "                          min_impurity_decrease=0.0, min_impurity_split=None,\n",
      "                          min_samples_leaf=1, min_samples_split=2,\n",
      "                          min_weight_fraction_leaf=0.0, n_estimators=300,\n",
      "                          n_iter_no_change=None, presort='auto',\n",
      "                          random_state=None, subsample=1.0, tol=0.0001,\n",
      "                          validation_fraction=0.1, verbose=0, warm_start=False)\n"
     ]
    }
   ],
   "source": [
    "# Split into train 80% and test 20%\n",
    "X_train, X_test, y_train, y_test = train_test_split(features, \n",
    "                                                    LOS, \n",
    "                                                    test_size = .20, \n",
    "                                                    random_state = 42)\n",
    "\n",
    "# Set the parameters by cross-validation\n",
    "#tuned_parameters = [{'n_estimators': [100, 200, 300],\n",
    "#                     'max_depth' : [2, 3, 4],\n",
    "#                     'loss': ['ls', 'lad', 'huber']}]\n",
    "tuned_parameters = [{'n_estimators': [200, 300],\n",
    "                     'max_depth' : [3, 4],\n",
    "                     'loss': ['ls', 'lad']}]\n",
    "\n",
    "# create and fit a ridge regression model, testing each alpha\n",
    "reg_model = GradientBoostingRegressor()  \n",
    "grid = GridSearchCV(reg_model, tuned_parameters)\n",
    "grid.fit(X_train, y_train)\n",
    "reg_model_optimized = grid.best_estimator_\n",
    "\n",
    "# summarize the results of the grid search\n",
    "print(grid.best_score_)\n",
    "print(grid.best_estimator_)"
   ]
  },
  {
   "cell_type": "code",
   "execution_count": 11,
   "metadata": {},
   "outputs": [
    {
     "name": "stdout",
     "output_type": "stream",
     "text": [
      "Optimized R2 score is: 0.387512\n"
     ]
    }
   ],
   "source": [
    "#reg_model = GradientBoostingRegressor(n_estimators = 200, max_depth=4, random_state=0)   \n",
    "#reg_model.fit(X_train, y_train)\n",
    "y_test_preds = reg_model_optimized.predict(X_test)\n",
    "r2_optimized = r2_score(y_test, y_test_preds)\n",
    "print(\"Optimized R2 score is: {:2f}\".format(r2_optimized)) "
   ]
  },
  {
   "cell_type": "code",
   "execution_count": 12,
   "metadata": {},
   "outputs": [
    {
     "name": "stdout",
     "output_type": "stream",
     "text": [
      "Model refinement improved R2 score by 0.0254\n"
     ]
    }
   ],
   "source": [
    "print('Model refinement improved R2 score by {:.4f}'.format(r2_optimized-r2_not_refined))"
   ]
  },
  {
   "cell_type": "markdown",
   "metadata": {},
   "source": [
    "## Removing 24 less important features (aggreagte 3.6% important )\n",
    "### Keeping 24 important features (aggreate 96.4 %)"
   ]
  },
  {
   "cell_type": "code",
   "execution_count": 13,
   "metadata": {},
   "outputs": [],
   "source": [
    "# df_clean_columnsDropped = df_clean\n",
    "\n",
    "df_clean.drop(columns=['ETH_BLACK/AFRICAN AMERICAN', 'pregnancy','AGE_senior','AGE_young_adult','ADM_NEWBORN','MAR_UNKNOWN (DEFAULT)', \\\n",
    "'INS_Private','ETH_OTHER/UNKNOWN','REL_RELIGIOUS','REL_UNOBTAINABLE','AGE_middle_adult','ETH_HISPANIC/LATINO',  \\\n",
    "'ETH_WHITE','MAR_SINGLE','REL_NOT SPECIFIED','MAR_DIVORCED','ADM_ELECTIVE','MAR_MARRIED','MAR_SEPARATED',   \\\n",
    "'ETH_ASIAN','AGE_newborn','MAR_WIDOWED','INS_Self Pay','MAR_LIFE PARTNER']\n",
    ", inplace=True)"
   ]
  },
  {
   "cell_type": "code",
   "execution_count": 14,
   "metadata": {},
   "outputs": [
    {
     "data": {
      "text/html": [
       "<div>\n",
       "<style scoped>\n",
       "    .dataframe tbody tr th:only-of-type {\n",
       "        vertical-align: middle;\n",
       "    }\n",
       "\n",
       "    .dataframe tbody tr th {\n",
       "        vertical-align: top;\n",
       "    }\n",
       "\n",
       "    .dataframe thead th {\n",
       "        text-align: right;\n",
       "    }\n",
       "</style>\n",
       "<table border=\"1\" class=\"dataframe\">\n",
       "  <thead>\n",
       "    <tr style=\"text-align: right;\">\n",
       "      <th></th>\n",
       "      <th>LOS</th>\n",
       "      <th>blood</th>\n",
       "      <th>circulatory</th>\n",
       "      <th>congenital</th>\n",
       "      <th>digestive</th>\n",
       "      <th>endocrine</th>\n",
       "      <th>genitourinary</th>\n",
       "      <th>infectious</th>\n",
       "      <th>injury</th>\n",
       "      <th>mental</th>\n",
       "      <th>...</th>\n",
       "      <th>respiratory</th>\n",
       "      <th>skin</th>\n",
       "      <th>GENDER</th>\n",
       "      <th>ICU</th>\n",
       "      <th>NICU</th>\n",
       "      <th>ADM_EMERGENCY</th>\n",
       "      <th>ADM_URGENT</th>\n",
       "      <th>INS_Government</th>\n",
       "      <th>INS_Medicaid</th>\n",
       "      <th>INS_Medicare</th>\n",
       "    </tr>\n",
       "  </thead>\n",
       "  <tbody>\n",
       "    <tr>\n",
       "      <th>count</th>\n",
       "      <td>53104.000000</td>\n",
       "      <td>53104.000000</td>\n",
       "      <td>53104.000000</td>\n",
       "      <td>53104.000000</td>\n",
       "      <td>53104.000000</td>\n",
       "      <td>53104.000000</td>\n",
       "      <td>53104.000000</td>\n",
       "      <td>53104.000000</td>\n",
       "      <td>53104.000000</td>\n",
       "      <td>53104.000000</td>\n",
       "      <td>...</td>\n",
       "      <td>53104.000000</td>\n",
       "      <td>53104.000000</td>\n",
       "      <td>53104.000000</td>\n",
       "      <td>53104.000000</td>\n",
       "      <td>53104.000000</td>\n",
       "      <td>53104.000000</td>\n",
       "      <td>53104.000000</td>\n",
       "      <td>53104.000000</td>\n",
       "      <td>53104.000000</td>\n",
       "      <td>53104.000000</td>\n",
       "    </tr>\n",
       "    <tr>\n",
       "      <th>mean</th>\n",
       "      <td>10.138174</td>\n",
       "      <td>0.375527</td>\n",
       "      <td>2.319938</td>\n",
       "      <td>0.074646</td>\n",
       "      <td>0.621648</td>\n",
       "      <td>1.185184</td>\n",
       "      <td>0.522503</td>\n",
       "      <td>0.310447</td>\n",
       "      <td>2.360029</td>\n",
       "      <td>0.428179</td>\n",
       "      <td>...</td>\n",
       "      <td>0.690588</td>\n",
       "      <td>0.151250</td>\n",
       "      <td>0.439157</td>\n",
       "      <td>0.829260</td>\n",
       "      <td>0.149217</td>\n",
       "      <td>0.689722</td>\n",
       "      <td>0.022126</td>\n",
       "      <td>0.031881</td>\n",
       "      <td>0.101706</td>\n",
       "      <td>0.457743</td>\n",
       "    </tr>\n",
       "    <tr>\n",
       "      <th>std</th>\n",
       "      <td>12.284461</td>\n",
       "      <td>0.653225</td>\n",
       "      <td>2.273787</td>\n",
       "      <td>0.351744</td>\n",
       "      <td>1.116934</td>\n",
       "      <td>1.341736</td>\n",
       "      <td>0.857216</td>\n",
       "      <td>0.669438</td>\n",
       "      <td>2.201613</td>\n",
       "      <td>0.849614</td>\n",
       "      <td>...</td>\n",
       "      <td>1.054394</td>\n",
       "      <td>0.507799</td>\n",
       "      <td>0.496289</td>\n",
       "      <td>0.376286</td>\n",
       "      <td>0.356305</td>\n",
       "      <td>0.462612</td>\n",
       "      <td>0.147096</td>\n",
       "      <td>0.175684</td>\n",
       "      <td>0.302264</td>\n",
       "      <td>0.498216</td>\n",
       "    </tr>\n",
       "    <tr>\n",
       "      <th>min</th>\n",
       "      <td>0.014583</td>\n",
       "      <td>0.000000</td>\n",
       "      <td>0.000000</td>\n",
       "      <td>0.000000</td>\n",
       "      <td>0.000000</td>\n",
       "      <td>0.000000</td>\n",
       "      <td>0.000000</td>\n",
       "      <td>0.000000</td>\n",
       "      <td>0.000000</td>\n",
       "      <td>0.000000</td>\n",
       "      <td>...</td>\n",
       "      <td>0.000000</td>\n",
       "      <td>0.000000</td>\n",
       "      <td>0.000000</td>\n",
       "      <td>0.000000</td>\n",
       "      <td>0.000000</td>\n",
       "      <td>0.000000</td>\n",
       "      <td>0.000000</td>\n",
       "      <td>0.000000</td>\n",
       "      <td>0.000000</td>\n",
       "      <td>0.000000</td>\n",
       "    </tr>\n",
       "    <tr>\n",
       "      <th>25%</th>\n",
       "      <td>3.866667</td>\n",
       "      <td>0.000000</td>\n",
       "      <td>0.000000</td>\n",
       "      <td>0.000000</td>\n",
       "      <td>0.000000</td>\n",
       "      <td>0.000000</td>\n",
       "      <td>0.000000</td>\n",
       "      <td>0.000000</td>\n",
       "      <td>1.000000</td>\n",
       "      <td>0.000000</td>\n",
       "      <td>...</td>\n",
       "      <td>0.000000</td>\n",
       "      <td>0.000000</td>\n",
       "      <td>0.000000</td>\n",
       "      <td>1.000000</td>\n",
       "      <td>0.000000</td>\n",
       "      <td>0.000000</td>\n",
       "      <td>0.000000</td>\n",
       "      <td>0.000000</td>\n",
       "      <td>0.000000</td>\n",
       "      <td>0.000000</td>\n",
       "    </tr>\n",
       "    <tr>\n",
       "      <th>50%</th>\n",
       "      <td>6.565972</td>\n",
       "      <td>0.000000</td>\n",
       "      <td>2.000000</td>\n",
       "      <td>0.000000</td>\n",
       "      <td>0.000000</td>\n",
       "      <td>1.000000</td>\n",
       "      <td>0.000000</td>\n",
       "      <td>0.000000</td>\n",
       "      <td>2.000000</td>\n",
       "      <td>0.000000</td>\n",
       "      <td>...</td>\n",
       "      <td>0.000000</td>\n",
       "      <td>0.000000</td>\n",
       "      <td>0.000000</td>\n",
       "      <td>1.000000</td>\n",
       "      <td>0.000000</td>\n",
       "      <td>1.000000</td>\n",
       "      <td>0.000000</td>\n",
       "      <td>0.000000</td>\n",
       "      <td>0.000000</td>\n",
       "      <td>0.000000</td>\n",
       "    </tr>\n",
       "    <tr>\n",
       "      <th>75%</th>\n",
       "      <td>11.711632</td>\n",
       "      <td>1.000000</td>\n",
       "      <td>4.000000</td>\n",
       "      <td>0.000000</td>\n",
       "      <td>1.000000</td>\n",
       "      <td>2.000000</td>\n",
       "      <td>1.000000</td>\n",
       "      <td>0.000000</td>\n",
       "      <td>3.000000</td>\n",
       "      <td>1.000000</td>\n",
       "      <td>...</td>\n",
       "      <td>1.000000</td>\n",
       "      <td>0.000000</td>\n",
       "      <td>1.000000</td>\n",
       "      <td>1.000000</td>\n",
       "      <td>0.000000</td>\n",
       "      <td>1.000000</td>\n",
       "      <td>0.000000</td>\n",
       "      <td>0.000000</td>\n",
       "      <td>0.000000</td>\n",
       "      <td>1.000000</td>\n",
       "    </tr>\n",
       "    <tr>\n",
       "      <th>max</th>\n",
       "      <td>294.660417</td>\n",
       "      <td>6.000000</td>\n",
       "      <td>16.000000</td>\n",
       "      <td>11.000000</td>\n",
       "      <td>11.000000</td>\n",
       "      <td>12.000000</td>\n",
       "      <td>7.000000</td>\n",
       "      <td>7.000000</td>\n",
       "      <td>23.000000</td>\n",
       "      <td>11.000000</td>\n",
       "      <td>...</td>\n",
       "      <td>9.000000</td>\n",
       "      <td>9.000000</td>\n",
       "      <td>1.000000</td>\n",
       "      <td>1.000000</td>\n",
       "      <td>1.000000</td>\n",
       "      <td>1.000000</td>\n",
       "      <td>1.000000</td>\n",
       "      <td>1.000000</td>\n",
       "      <td>1.000000</td>\n",
       "      <td>1.000000</td>\n",
       "    </tr>\n",
       "  </tbody>\n",
       "</table>\n",
       "<p>8 rows × 25 columns</p>\n",
       "</div>"
      ],
      "text/plain": [
       "                LOS         blood   circulatory    congenital     digestive  \\\n",
       "count  53104.000000  53104.000000  53104.000000  53104.000000  53104.000000   \n",
       "mean      10.138174      0.375527      2.319938      0.074646      0.621648   \n",
       "std       12.284461      0.653225      2.273787      0.351744      1.116934   \n",
       "min        0.014583      0.000000      0.000000      0.000000      0.000000   \n",
       "25%        3.866667      0.000000      0.000000      0.000000      0.000000   \n",
       "50%        6.565972      0.000000      2.000000      0.000000      0.000000   \n",
       "75%       11.711632      1.000000      4.000000      0.000000      1.000000   \n",
       "max      294.660417      6.000000     16.000000     11.000000     11.000000   \n",
       "\n",
       "          endocrine  genitourinary    infectious        injury        mental  \\\n",
       "count  53104.000000   53104.000000  53104.000000  53104.000000  53104.000000   \n",
       "mean       1.185184       0.522503      0.310447      2.360029      0.428179   \n",
       "std        1.341736       0.857216      0.669438      2.201613      0.849614   \n",
       "min        0.000000       0.000000      0.000000      0.000000      0.000000   \n",
       "25%        0.000000       0.000000      0.000000      1.000000      0.000000   \n",
       "50%        1.000000       0.000000      0.000000      2.000000      0.000000   \n",
       "75%        2.000000       1.000000      0.000000      3.000000      1.000000   \n",
       "max       12.000000       7.000000      7.000000     23.000000     11.000000   \n",
       "\n",
       "       ...   respiratory          skin        GENDER           ICU  \\\n",
       "count  ...  53104.000000  53104.000000  53104.000000  53104.000000   \n",
       "mean   ...      0.690588      0.151250      0.439157      0.829260   \n",
       "std    ...      1.054394      0.507799      0.496289      0.376286   \n",
       "min    ...      0.000000      0.000000      0.000000      0.000000   \n",
       "25%    ...      0.000000      0.000000      0.000000      1.000000   \n",
       "50%    ...      0.000000      0.000000      0.000000      1.000000   \n",
       "75%    ...      1.000000      0.000000      1.000000      1.000000   \n",
       "max    ...      9.000000      9.000000      1.000000      1.000000   \n",
       "\n",
       "               NICU  ADM_EMERGENCY    ADM_URGENT  INS_Government  \\\n",
       "count  53104.000000   53104.000000  53104.000000    53104.000000   \n",
       "mean       0.149217       0.689722      0.022126        0.031881   \n",
       "std        0.356305       0.462612      0.147096        0.175684   \n",
       "min        0.000000       0.000000      0.000000        0.000000   \n",
       "25%        0.000000       0.000000      0.000000        0.000000   \n",
       "50%        0.000000       1.000000      0.000000        0.000000   \n",
       "75%        0.000000       1.000000      0.000000        0.000000   \n",
       "max        1.000000       1.000000      1.000000        1.000000   \n",
       "\n",
       "       INS_Medicaid  INS_Medicare  \n",
       "count  53104.000000  53104.000000  \n",
       "mean       0.101706      0.457743  \n",
       "std        0.302264      0.498216  \n",
       "min        0.000000      0.000000  \n",
       "25%        0.000000      0.000000  \n",
       "50%        0.000000      0.000000  \n",
       "75%        0.000000      1.000000  \n",
       "max        1.000000      1.000000  \n",
       "\n",
       "[8 rows x 25 columns]"
      ]
     },
     "execution_count": 14,
     "metadata": {},
     "output_type": "execute_result"
    }
   ],
   "source": [
    "df_clean.describe()"
   ]
  },
  {
   "cell_type": "code",
   "execution_count": 15,
   "metadata": {},
   "outputs": [],
   "source": [
    "# Target Variable (Length-of-Stay)\n",
    "LOS = df_clean['LOS'].values\n",
    "# Prediction Features\n",
    "features = df_clean.drop(columns=['LOS'])"
   ]
  },
  {
   "cell_type": "code",
   "execution_count": 16,
   "metadata": {},
   "outputs": [
    {
     "name": "stdout",
     "output_type": "stream",
     "text": [
      "Training set has 42483 samples.\n",
      "Testing set has 10621 samples.\n"
     ]
    }
   ],
   "source": [
    "# Split into train 80% and test 20%\n",
    "X_train, X_test, y_train, y_test = train_test_split(features, \n",
    "                                                    LOS, \n",
    "                                                    test_size = .20, \n",
    "                                                    random_state = 0)\n",
    "\n",
    "# Show the results of the split\n",
    "print(\"Training set has {} samples.\".format(X_train.shape[0]))\n",
    "print(\"Testing set has {} samples.\".format(X_test.shape[0]))"
   ]
  },
  {
   "cell_type": "code",
   "execution_count": 17,
   "metadata": {},
   "outputs": [
    {
     "name": "stdout",
     "output_type": "stream",
     "text": [
      "SGDRegressor done.\n",
      "GradientBoostingRegressor done.\n",
      "LinearRegression done.\n",
      "KNeighborsRegressor done.\n"
     ]
    },
    {
     "name": "stderr",
     "output_type": "stream",
     "text": [
      "C:\\Users\\sreedharv\\AppData\\Local\\Programs\\Python\\Python37\\lib\\site-packages\\sklearn\\ensemble\\forest.py:245: FutureWarning: The default value of n_estimators will change from 10 in version 0.20 to 100 in 0.22.\n",
      "  \"10 in version 0.20 to 100 in 0.22.\", FutureWarning)\n"
     ]
    },
    {
     "name": "stdout",
     "output_type": "stream",
     "text": [
      "RandomForestRegressor done.\n"
     ]
    }
   ],
   "source": [
    "# Regression models for comparison\n",
    "models = [SGDRegressor(random_state = 0), \n",
    "          GradientBoostingRegressor(random_state = 0), \n",
    "          LinearRegression(),\n",
    "          KNeighborsRegressor(),\n",
    "          RandomForestRegressor(random_state = 0)]\n",
    "\n",
    "results = {}\n",
    "\n",
    "for model in models:\n",
    "    \n",
    "    # Instantiate and fit Regressor Model\n",
    "    reg_model = model\n",
    "    reg_model.fit(X_train, y_train)\n",
    "    \n",
    "    # Make predictions with model\n",
    "    y_test_preds = reg_model.predict(X_test)\n",
    "    \n",
    "    # Grab model name and store results associated with model\n",
    "    name = str(model).split(\"(\")[0]\n",
    "\n",
    "    results[name] = r2_score(y_test, y_test_preds)\n",
    "    print('{} done.'.format(name))"
   ]
  },
  {
   "cell_type": "code",
   "execution_count": 18,
   "metadata": {},
   "outputs": [
    {
     "data": {
      "image/png": "[encoded data removed]",
      "text/plain": [
       "<Figure size 432x288 with 1 Axes>"
      ]
     },
     "metadata": {
      "needs_background": "light"
     },
     "output_type": "display_data"
    }
   ],
   "source": [
    "# R2 score results\n",
    "fig, ax = plt.subplots()\n",
    "ind = range(len(results))\n",
    "ax.barh(ind, list(results.values()), align='center', \n",
    "        color = '#55a868', alpha=0.8)\n",
    "ax.set_yticks(ind)\n",
    "ax.set_yticklabels(results.keys())\n",
    "ax.set_xlabel('R-squared score')\n",
    "ax.tick_params(left=False, top=False, right=False) \n",
    "ax.set_title('Comparison of Regression Models')\n",
    "fig.savefig('images/compare_models.png', bbox_inches = 'tight')"
   ]
  },
  {
   "cell_type": "code",
   "execution_count": 19,
   "metadata": {},
   "outputs": [
    {
     "name": "stdout",
     "output_type": "stream",
     "text": [
      "R2 score is: 0.361388\n"
     ]
    }
   ],
   "source": [
    "# GradientBoostingRegressor will be used as the LOS prediction model\n",
    "reg_model = GradientBoostingRegressor(random_state=0)   \n",
    "reg_model.fit(X_train, y_train)\n",
    "y_test_preds = reg_model.predict(X_test)\n",
    "r2_not_refined = r2_score(y_test, y_test_preds)\n",
    "print(\"R2 score is: {:2f}\".format(r2_not_refined)) "
   ]
  },
  {
   "cell_type": "code",
   "execution_count": 20,
   "metadata": {},
   "outputs": [
    {
     "name": "stderr",
     "output_type": "stream",
     "text": [
      "C:\\Users\\sreedharv\\AppData\\Local\\Programs\\Python\\Python37\\lib\\site-packages\\sklearn\\model_selection\\_split.py:1978: FutureWarning: The default value of cv will change from 3 to 5 in version 0.22. Specify it explicitly to silence this warning.\n",
      "  warnings.warn(CV_WARNING, FutureWarning)\n"
     ]
    },
    {
     "name": "stdout",
     "output_type": "stream",
     "text": [
      "0.40625300183994706\n",
      "GradientBoostingRegressor(alpha=0.9, criterion='friedman_mse', init=None,\n",
      "                          learning_rate=0.1, loss='ls', max_depth=4,\n",
      "                          max_features=None, max_leaf_nodes=None,\n",
      "                          min_impurity_decrease=0.0, min_impurity_split=None,\n",
      "                          min_samples_leaf=1, min_samples_split=2,\n",
      "                          min_weight_fraction_leaf=0.0, n_estimators=200,\n",
      "                          n_iter_no_change=None, presort='auto',\n",
      "                          random_state=None, subsample=1.0, tol=0.0001,\n",
      "                          validation_fraction=0.1, verbose=0, warm_start=False)\n"
     ]
    }
   ],
   "source": [
    "# Split into train 80% and test 20%\n",
    "X_train, X_test, y_train, y_test = train_test_split(features, \n",
    "                                                    LOS, \n",
    "                                                    test_size = .20, \n",
    "                                                    random_state = 42)\n",
    "\n",
    "# Set the parameters by cross-validation\n",
    "#tuned_parameters = [{'n_estimators': [100, 200, 300],\n",
    "#                     'max_depth' : [2, 3, 4],\n",
    "#                     'loss': ['ls', 'lad', 'huber']}]\n",
    "tuned_parameters = [{'n_estimators': [200, 300],\n",
    "                     'max_depth' : [3, 4],\n",
    "                     'loss': ['ls', 'lad']}]\n",
    "\n",
    "# create and fit a ridge regression model, testing each alpha\n",
    "reg_model = GradientBoostingRegressor()  \n",
    "grid = GridSearchCV(reg_model, tuned_parameters)\n",
    "grid.fit(X_train, y_train)\n",
    "reg_model_optimized = grid.best_estimator_\n",
    "\n",
    "# summarize the results of the grid search\n",
    "print(grid.best_score_)\n",
    "print(grid.best_estimator_)"
   ]
  },
  {
   "cell_type": "code",
   "execution_count": 21,
   "metadata": {},
   "outputs": [
    {
     "name": "stdout",
     "output_type": "stream",
     "text": [
      "Optimized R2 score is: 0.378951\n"
     ]
    }
   ],
   "source": [
    "#reg_model = GradientBoostingRegressor(n_estimators = 200, max_depth=4, random_state=0)   \n",
    "#reg_model.fit(X_train, y_train)\n",
    "y_test_preds = reg_model_optimized.predict(X_test)\n",
    "r2_optimized = r2_score(y_test, y_test_preds)\n",
    "print(\"Optimized R2 score is: {:2f}\".format(r2_optimized)) "
   ]
  },
  {
   "cell_type": "code",
   "execution_count": null,
   "metadata": {},
   "outputs": [],
   "source": []
  }
 ],
 "metadata": {
  "kernelspec": {
   "display_name": "Python 3",
   "language": "python",
   "name": "python3"
  },
  "language_info": {
   "codemirror_mode": {
    "name": "ipython",
    "version": 3
   },
   "file_extension": ".py",
   "mimetype": "text/x-python",
   "name": "python",
   "nbconvert_exporter": "python",
   "pygments_lexer": "ipython3",
   "version": "3.7.3"
  }
 },
 "nbformat": 4,
 "nbformat_minor": 2
}
