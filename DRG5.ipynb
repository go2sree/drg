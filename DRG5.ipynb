{
 "cells": [
  {
   "cell_type": "code",
   "execution_count": 1,
   "metadata": {},
   "outputs": [],
   "source": [
    "# Imports\n",
    "import pandas as pd\n",
    "import numpy as np\n",
    "import matplotlib.pyplot as plt\n",
    "import seaborn as sns\n",
    "from sklearn.model_selection import train_test_split\n",
    "from sklearn.metrics import r2_score, mean_squared_error\n",
    "from sklearn.preprocessing import MinMaxScaler\n",
    "from sklearn.neighbors import KNeighborsRegressor\n",
    "from sklearn.linear_model import LinearRegression\n",
    "from sklearn.svm import SVR\n",
    "from sklearn.ensemble import RandomForestRegressor\n",
    "from sklearn.tree import DecisionTreeRegressor\n",
    "from scipy.stats import pearsonr\n",
    "from sklearn.ensemble import GradientBoostingRegressor\n",
    "from sklearn.linear_model import SGDRegressor\n",
    "# import statsmodels.api as sm\n",
    "# from statsmodels.formula.api import sm\n",
    "from sklearn.model_selection import GridSearchCV\n",
    "import seaborn as sns"
   ]
  },
  {
   "cell_type": "code",
   "execution_count": 2,
   "metadata": {},
   "outputs": [
    {
     "name": "stdout",
     "output_type": "stream",
     "text": [
      "<class 'pandas.core.frame.DataFrame'>\n",
      "Int64Index: 53104 entries, 0 to 58975\n",
      "Data columns (total 49 columns):\n",
      "LOS                           53104 non-null float64\n",
      "blood                         53104 non-null uint8\n",
      "circulatory                   53104 non-null uint8\n",
      "congenital                    53104 non-null uint8\n",
      "digestive                     53104 non-null uint8\n",
      "endocrine                     53104 non-null uint8\n",
      "genitourinary                 53104 non-null uint8\n",
      "infectious                    53104 non-null uint8\n",
      "injury                        53104 non-null uint8\n",
      "mental                        53104 non-null uint8\n",
      "misc                          53104 non-null uint8\n",
      "muscular                      53104 non-null uint8\n",
      "neoplasms                     53104 non-null uint8\n",
      "nervous                       53104 non-null uint8\n",
      "pregnancy                     53104 non-null uint8\n",
      "prenatal                      53104 non-null uint8\n",
      "respiratory                   53104 non-null uint8\n",
      "skin                          53104 non-null uint8\n",
      "GENDER                        53104 non-null int64\n",
      "ICU                           53104 non-null float64\n",
      "NICU                          53104 non-null float64\n",
      "ADM_ELECTIVE                  53104 non-null uint8\n",
      "ADM_EMERGENCY                 53104 non-null uint8\n",
      "ADM_NEWBORN                   53104 non-null uint8\n",
      "ADM_URGENT                    53104 non-null uint8\n",
      "INS_Government                53104 non-null uint8\n",
      "INS_Medicaid                  53104 non-null uint8\n",
      "INS_Medicare                  53104 non-null uint8\n",
      "INS_Private                   53104 non-null uint8\n",
      "INS_Self Pay                  53104 non-null uint8\n",
      "REL_NOT SPECIFIED             53104 non-null uint8\n",
      "REL_RELIGIOUS                 53104 non-null uint8\n",
      "REL_UNOBTAINABLE              53104 non-null uint8\n",
      "ETH_ASIAN                     53104 non-null uint8\n",
      "ETH_BLACK/AFRICAN AMERICAN    53104 non-null uint8\n",
      "ETH_HISPANIC/LATINO           53104 non-null uint8\n",
      "ETH_OTHER/UNKNOWN             53104 non-null uint8\n",
      "ETH_WHITE                     53104 non-null uint8\n",
      "AGE_middle_adult              53104 non-null uint8\n",
      "AGE_newborn                   53104 non-null uint8\n",
      "AGE_senior                    53104 non-null uint8\n",
      "AGE_young_adult               53104 non-null uint8\n",
      "MAR_DIVORCED                  53104 non-null uint8\n",
      "MAR_LIFE PARTNER              53104 non-null uint8\n",
      "MAR_MARRIED                   53104 non-null uint8\n",
      "MAR_SEPARATED                 53104 non-null uint8\n",
      "MAR_SINGLE                    53104 non-null uint8\n",
      "MAR_UNKNOWN (DEFAULT)         53104 non-null uint8\n",
      "MAR_WIDOWED                   53104 non-null uint8\n",
      "dtypes: float64(3), int64(1), uint8(45)\n",
      "memory usage: 4.3 MB\n"
     ]
    }
   ],
   "source": [
    "df_clean = pd.read_pickle('data/df_clean_pickled.pkl')\n",
    "df_clean.head()\n",
    "df_clean.info()"
   ]
  },
  {
   "cell_type": "code",
   "execution_count": 3,
   "metadata": {},
   "outputs": [
    {
     "data": {
      "text/plain": [
       "0"
      ]
     },
     "execution_count": 3,
     "metadata": {},
     "output_type": "execute_result"
    }
   ],
   "source": [
    "df_clean.isnull().values.sum()"
   ]
  },
  {
   "cell_type": "code",
   "execution_count": 4,
   "metadata": {},
   "outputs": [],
   "source": [
    "df_clean.loc[df_clean.LOS > 75, 'LOS'] = 75.999999"
   ]
  },
  {
   "cell_type": "code",
   "execution_count": 5,
   "metadata": {},
   "outputs": [
    {
     "data": {
      "text/plain": [
       "count    53104.000000\n",
       "mean         9.976078\n",
       "std         11.013874\n",
       "min          0.014583\n",
       "25%          3.866667\n",
       "50%          6.565972\n",
       "75%         11.711632\n",
       "max         75.999999\n",
       "Name: LOS, dtype: float64"
      ]
     },
     "execution_count": 5,
     "metadata": {},
     "output_type": "execute_result"
    }
   ],
   "source": [
    "df_clean['LOS'].describe()"
   ]
  },
  {
   "cell_type": "code",
   "execution_count": 6,
   "metadata": {},
   "outputs": [],
   "source": [
    "# Target Variable (Length-of-Stay)\n",
    "LOS = df_clean['LOS'].values\n",
    "# Prediction Features\n",
    "features = df_clean.drop(columns=['LOS'])"
   ]
  },
  {
   "cell_type": "code",
   "execution_count": 7,
   "metadata": {},
   "outputs": [
    {
     "name": "stdout",
     "output_type": "stream",
     "text": [
      "Training set has 42483 samples.\n",
      "Testing set has 10621 samples.\n"
     ]
    }
   ],
   "source": [
    "# Split into train 80% and test 20%\n",
    "X_train, X_test, y_train, y_test = train_test_split(features, \n",
    "                                                    LOS, \n",
    "                                                    test_size = .20, \n",
    "                                                    random_state = 0)\n",
    "\n",
    "# Show the results of the split\n",
    "print(\"Training set has {} samples.\".format(X_train.shape[0]))\n",
    "print(\"Testing set has {} samples.\".format(X_test.shape[0]))"
   ]
  },
  {
   "cell_type": "code",
   "execution_count": 8,
   "metadata": {},
   "outputs": [
    {
     "name": "stdout",
     "output_type": "stream",
     "text": [
      "SGDRegressor done.\n",
      "GradientBoostingRegressor done.\n",
      "LinearRegression done.\n",
      "KNeighborsRegressor done.\n"
     ]
    },
    {
     "name": "stderr",
     "output_type": "stream",
     "text": [
      "C:\\Users\\sreedharv\\AppData\\Local\\Programs\\Python\\Python37\\lib\\site-packages\\sklearn\\ensemble\\forest.py:245: FutureWarning: The default value of n_estimators will change from 10 in version 0.20 to 100 in 0.22.\n",
      "  \"10 in version 0.20 to 100 in 0.22.\", FutureWarning)\n"
     ]
    },
    {
     "name": "stdout",
     "output_type": "stream",
     "text": [
      "RandomForestRegressor done.\n"
     ]
    }
   ],
   "source": [
    "# Regression models for comparison\n",
    "models = [SGDRegressor(random_state = 0), \n",
    "          GradientBoostingRegressor(random_state = 0), \n",
    "          LinearRegression(),\n",
    "          KNeighborsRegressor(),\n",
    "          RandomForestRegressor(random_state = 0)]\n",
    "\n",
    "results = {}\n",
    "\n",
    "for model in models:\n",
    "    \n",
    "    # Instantiate and fit Regressor Model\n",
    "    reg_model = model\n",
    "    reg_model.fit(X_train, y_train)\n",
    "    \n",
    "    # Make predictions with model\n",
    "    y_test_preds = reg_model.predict(X_test)\n",
    "    \n",
    "    # Grab model name and store results associated with model\n",
    "    name = str(model).split(\"(\")[0]\n",
    "\n",
    "    results[name] = r2_score(y_test, y_test_preds)\n",
    "    print('{} done.'.format(name))\n",
    "    \n",
    "#     print(reg_model.coef_)\n",
    "#     print(reg_model.intercept_)"
   ]
  },
  {
   "cell_type": "code",
   "execution_count": 9,
   "metadata": {},
   "outputs": [
    {
     "data": {
      "image/png": "[encoded data removed]",
      "text/plain": [
       "<Figure size 432x288 with 1 Axes>"
      ]
     },
     "metadata": {
      "needs_background": "light"
     },
     "output_type": "display_data"
    }
   ],
   "source": [
    "# R2 score results\n",
    "fig, ax = plt.subplots()\n",
    "ind = range(len(results))\n",
    "ax.barh(ind, list(results.values()), align='center', \n",
    "        color = '#55a868', alpha=0.8)\n",
    "ax.set_yticks(ind)\n",
    "ax.set_yticklabels(results.keys())\n",
    "ax.set_xlabel('R-squared score')\n",
    "ax.tick_params(left=False, top=False, right=False) \n",
    "ax.set_title('Comparison of Regression Models')\n",
    "fig.savefig('images/compare_models.png', bbox_inches = 'tight')"
   ]
  },
  {
   "cell_type": "code",
   "execution_count": 11,
   "metadata": {},
   "outputs": [
    {
     "name": "stdout",
     "output_type": "stream",
     "text": [
      "R2 score is: 0.364890\n"
     ]
    }
   ],
   "source": [
    "# GradientBoostingRegressor will be used as the LOS prediction model\n",
    "reg_model = GradientBoostingRegressor(random_state=0)   \n",
    "reg_model.fit(X_train, y_train)\n",
    "y_test_preds = reg_model.predict(X_test)\n",
    "r2_not_refined = r2_score(y_test, y_test_preds)\n",
    "print(\"R2 score is: {:2f}\".format(r2_not_refined)) "
   ]
  },
  {
   "cell_type": "code",
   "execution_count": 12,
   "metadata": {},
   "outputs": [
    {
     "name": "stderr",
     "output_type": "stream",
     "text": [
      "C:\\Users\\sreedharv\\AppData\\Local\\Programs\\Python\\Python37\\lib\\site-packages\\sklearn\\model_selection\\_split.py:1978: FutureWarning: The default value of cv will change from 3 to 5 in version 0.22. Specify it explicitly to silence this warning.\n",
      "  warnings.warn(CV_WARNING, FutureWarning)\n"
     ]
    },
    {
     "name": "stdout",
     "output_type": "stream",
     "text": [
      "0.40306750474834024\n",
      "GradientBoostingRegressor(alpha=0.9, criterion='friedman_mse', init=None,\n",
      "                          learning_rate=0.1, loss='ls', max_depth=4,\n",
      "                          max_features=None, max_leaf_nodes=None,\n",
      "                          min_impurity_decrease=0.0, min_impurity_split=None,\n",
      "                          min_samples_leaf=1, min_samples_split=2,\n",
      "                          min_weight_fraction_leaf=0.0, n_estimators=300,\n",
      "                          n_iter_no_change=None, presort='auto',\n",
      "                          random_state=None, subsample=1.0, tol=0.0001,\n",
      "                          validation_fraction=0.1, verbose=0, warm_start=False)\n"
     ]
    }
   ],
   "source": [
    "# Split into train 80% and test 20%\n",
    "X_train, X_test, y_train, y_test = train_test_split(features, \n",
    "                                                    LOS, \n",
    "                                                    test_size = .20, \n",
    "                                                    random_state = 42)\n",
    "\n",
    "# Set the parameters by cross-validation\n",
    "#tuned_parameters = [{'n_estimators': [100, 200, 300],\n",
    "#                     'max_depth' : [2, 3, 4],\n",
    "#                     'loss': ['ls', 'lad', 'huber']}]\n",
    "tuned_parameters = [{'n_estimators': [200, 300],\n",
    "                     'max_depth' : [3, 4],\n",
    "                     'loss': ['ls', 'lad']}]\n",
    "\n",
    "# create and fit a ridge regression model, testing each alpha\n",
    "reg_model = GradientBoostingRegressor()  \n",
    "grid = GridSearchCV(reg_model, tuned_parameters)\n",
    "grid.fit(X_train, y_train)\n",
    "reg_model_optimized = grid.best_estimator_\n",
    "\n",
    "# summarize the results of the grid search\n",
    "print(grid.best_score_)\n",
    "print(grid.best_estimator_)"
   ]
  },
  {
   "cell_type": "code",
   "execution_count": 14,
   "metadata": {},
   "outputs": [
    {
     "name": "stdout",
     "output_type": "stream",
     "text": [
      "Optimized R2 score is: 0.402059\n"
     ]
    }
   ],
   "source": [
    "#reg_model = GradientBoostingRegressor(n_estimators = 200, max_depth=4, random_state=0)   \n",
    "#reg_model.fit(X_train, y_train)\n",
    "y_test_preds = reg_model_optimized.predict(X_test)\n",
    "r2_optimized = r2_score(y_test, y_test_preds)\n",
    "print(\"Optimized R2 score is: {:2f}\".format(r2_optimized)) "
   ]
  },
  {
   "cell_type": "code",
   "execution_count": 12,
   "metadata": {},
   "outputs": [
    {
     "name": "stdout",
     "output_type": "stream",
     "text": [
      "Model refinement improved R2 score by 0.0254\n"
     ]
    }
   ],
   "source": [
    "print('Model refinement improved R2 score by {:.4f}'.format(r2_optimized-r2_not_refined))"
   ]
  },
  {
   "cell_type": "code",
   "execution_count": null,
   "metadata": {},
   "outputs": [],
   "source": []
  }
 ],
 "metadata": {
  "kernelspec": {
   "display_name": "Python 3",
   "language": "python",
   "name": "python3"
  },
  "language_info": {
   "codemirror_mode": {
    "name": "ipython",
    "version": 3
   },
   "file_extension": ".py",
   "mimetype": "text/x-python",
   "name": "python",
   "nbconvert_exporter": "python",
   "pygments_lexer": "ipython3",
   "version": "3.7.3"
  }
 },
 "nbformat": 4,
 "nbformat_minor": 2
}
